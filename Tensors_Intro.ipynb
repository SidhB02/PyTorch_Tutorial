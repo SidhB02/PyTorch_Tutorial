{
  "nbformat": 4,
  "nbformat_minor": 0,
  "metadata": {
    "colab": {
      "provenance": [],
      "authorship_tag": "ABX9TyN+i/EvRW6RhpQtSa6ho6xx",
      "include_colab_link": true
    },
    "kernelspec": {
      "name": "python3",
      "display_name": "Python 3"
    },
    "language_info": {
      "name": "python"
    }
  },
  "cells": [
    {
      "cell_type": "markdown",
      "metadata": {
        "id": "view-in-github",
        "colab_type": "text"
      },
      "source": [
        "<a href=\"https://colab.research.google.com/github/SidhB02/PyTorch_Tutorial/blob/main/Tensors_Intro.ipynb\" target=\"_parent\"><img src=\"https://colab.research.google.com/assets/colab-badge.svg\" alt=\"Open In Colab\"/></a>"
      ]
    },
    {
      "cell_type": "markdown",
      "source": [
        "# **Tensors**\n",
        "* Multi-Dimensional Matrix containing elements of a single data-type\n",
        "* Similar to Numpy Arrays, but make them work better on GPU's\n",
        "* Default data type of float32\n",
        "* More suitable for deep learning"
      ],
      "metadata": {
        "id": "VQ3pqRYMlC5x"
      }
    },
    {
      "cell_type": "code",
      "source": [
        "import torch\n",
        "import numpy as np"
      ],
      "metadata": {
        "id": "Oc0T0ZsGn2v5"
      },
      "execution_count": null,
      "outputs": []
    },
    {
      "cell_type": "markdown",
      "source": [
        "# LIST\n"
      ],
      "metadata": {
        "id": "Hqx8B9eapHFK"
      }
    },
    {
      "cell_type": "code",
      "source": [
        "my_list=[[1,2,3,4,5],[6,7,8,9,10]]\n",
        "my_list"
      ],
      "metadata": {
        "colab": {
          "base_uri": "https://localhost:8080/"
        },
        "id": "zQjZVpiqoep2",
        "outputId": "067ead92-c3e8-41bf-9733-5281fc480b52"
      },
      "execution_count": null,
      "outputs": [
        {
          "output_type": "execute_result",
          "data": {
            "text/plain": [
              "[[1, 2, 3, 4, 5], [6, 7, 8, 9, 10]]"
            ]
          },
          "metadata": {},
          "execution_count": 2
        }
      ]
    },
    {
      "cell_type": "markdown",
      "source": [
        "#NUMPY"
      ],
      "metadata": {
        "id": "aArsFI62pLhb"
      }
    },
    {
      "cell_type": "code",
      "source": [
        "np1 = np.random.rand(3,4)\n",
        "#np1\n",
        "np1.dtype"
      ],
      "metadata": {
        "id": "PN9JAO3aowlb",
        "colab": {
          "base_uri": "https://localhost:8080/"
        },
        "outputId": "2c7b880e-9471-4371-e9b0-674ba2c348c4"
      },
      "execution_count": null,
      "outputs": [
        {
          "output_type": "execute_result",
          "data": {
            "text/plain": [
              "dtype('float64')"
            ]
          },
          "metadata": {},
          "execution_count": 6
        }
      ]
    },
    {
      "cell_type": "markdown",
      "source": [
        "# TENSORS"
      ],
      "metadata": {
        "id": "lqkqh_GxdRkA"
      }
    },
    {
      "cell_type": "code",
      "source": [
        "tens_2d = torch.rand(3,4)\n",
        "tens_2d"
      ],
      "metadata": {
        "colab": {
          "base_uri": "https://localhost:8080/"
        },
        "id": "0_7HKllIbndZ",
        "outputId": "4a3e7f0d-e8d3-4b93-8c7f-ca5a3559d87c"
      },
      "execution_count": null,
      "outputs": [
        {
          "output_type": "execute_result",
          "data": {
            "text/plain": [
              "tensor([[0.0593, 0.0494, 0.5030, 0.8130],\n",
              "        [0.5001, 0.8968, 0.6055, 0.5188],\n",
              "        [0.5815, 0.2531, 0.3170, 0.6384]])"
            ]
          },
          "metadata": {},
          "execution_count": 7
        }
      ]
    },
    {
      "cell_type": "code",
      "source": [
        "tens_3d = torch.zeros(2,3,4)\n",
        "tens_3d\n",
        "tens_3d.dtype"
      ],
      "metadata": {
        "colab": {
          "base_uri": "https://localhost:8080/"
        },
        "id": "F7YUFBkOdbZO",
        "outputId": "4d34810a-5007-4f0d-c857-8d4111ce2512"
      },
      "execution_count": null,
      "outputs": [
        {
          "output_type": "execute_result",
          "data": {
            "text/plain": [
              "torch.float32"
            ]
          },
          "metadata": {},
          "execution_count": 11
        }
      ]
    },
    {
      "cell_type": "code",
      "source": [
        "#Create Tensor from numpy\n",
        "my_tensor = torch.tensor(np1)\n",
        "my_tensor"
      ],
      "metadata": {
        "colab": {
          "base_uri": "https://localhost:8080/"
        },
        "id": "GikUalXndv6d",
        "outputId": "3421bdd6-1f11-4c85-af92-55788c11e874"
      },
      "execution_count": null,
      "outputs": [
        {
          "output_type": "execute_result",
          "data": {
            "text/plain": [
              "tensor([[0.9602, 0.0463, 0.8025, 0.8796],\n",
              "        [0.2876, 0.2719, 0.3087, 0.5639],\n",
              "        [0.5070, 0.6607, 0.1311, 0.0416]], dtype=torch.float64)"
            ]
          },
          "metadata": {},
          "execution_count": 10
        }
      ]
    },
    {
      "cell_type": "code",
      "source": [],
      "metadata": {
        "id": "TOgBQ3qId-Hw"
      },
      "execution_count": null,
      "outputs": []
    }
  ]
}